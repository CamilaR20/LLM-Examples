{
 "cells": [
  {
   "cell_type": "markdown",
   "metadata": {},
   "source": [
    "## Transformer Architecture (Decoder)\n",
    "Building a transformer from Pytorch's layers, based on: https://github.com/StatQuest/decoder_transformer_from_scratch."
   ]
  },
  {
   "cell_type": "code",
   "execution_count": 1,
   "metadata": {},
   "outputs": [],
   "source": [
    "import torch\n",
    "import torch.nn as nn\n",
    "import torch.nn.functional as F\n",
    "\n",
    "from torch.utils.data import TensorDataset, DataLoader\n",
    "from torch.optim import Adam"
   ]
  },
  {
   "cell_type": "markdown",
   "metadata": {},
   "source": [
    "### Building a Tokenizer"
   ]
  },
  {
   "cell_type": "code",
   "execution_count": 3,
   "metadata": {},
   "outputs": [],
   "source": [
    "class Tokenizer():\n",
    "    def __init__(self, vocab):\n",
    "        self.vocab = vocab\n",
    "        self.vocab_reverse = dict(zip(vocab.values(), vocab.keys()))\n",
    "\n",
    "    def __call__(self, sequence):\n",
    "        token_ids = list(map(lambda token: self.vocab[token], sequence.split()))\n",
    "        return token_ids\n",
    "    \n",
    "    def decode(self, sequence):\n",
    "        tokens = ' '.join(list(map(lambda id: self.vocab_reverse[id], sequence)))\n",
    "        return tokens\n",
    "\n",
    "tokenizer = Tokenizer({'What': 0, 'is': 1, 'the': 2, 'capital': 3, 'of': 4, 'France': 5, 'Paris': 6, '<EOS>': 7})"
   ]
  },
  {
   "cell_type": "code",
   "execution_count": 10,
   "metadata": {},
   "outputs": [
    {
     "name": "stdout",
     "output_type": "stream",
     "text": [
      "[0, 1, 2, 3, 4, 5, 7]\n",
      "What is the capital of France <EOS>\n"
     ]
    }
   ],
   "source": [
    "prompt = 'What is the capital of France <EOS>'\n",
    "\n",
    "prompt_ids = tokenizer(prompt)\n",
    "sentence = tokenizer.decode(prompt_ids)\n",
    "\n",
    "print(prompt_ids, sentence, sep='\\n')"
   ]
  },
  {
   "cell_type": "markdown",
   "metadata": {},
   "source": [
    "### Creating the dataset"
   ]
  },
  {
   "cell_type": "code",
   "execution_count": null,
   "metadata": {},
   "outputs": [],
   "source": [
    "response_decoder = 'is the capital of France <EOS> Paris <EOS>'\n",
    "response_ids = tokenizer(response_decoder)\n",
    "dataset = TensorDataset(prompt_ids, response_decoder)\n",
    "data_loader = DataLoader(dataset)"
   ]
  },
  {
   "cell_type": "markdown",
   "metadata": {},
   "source": [
    "### Creating the positional encoding"
   ]
  },
  {
   "cell_type": "code",
   "execution_count": 13,
   "metadata": {},
   "outputs": [],
   "source": [
    "class PositionEncoding(nn.Module):\n",
    "    def __init__(self, d_model=2, max_len=6):\n",
    "        super().__init__()\n",
    "        pos_encoding = torch.zeros(max_len, d_model)\n",
    "\n",
    "        position = torch.arange(start=0, end=max_len, step=1).float().unsqueeze(1)\n",
    "        embedding_idx = torch.arange(start=0, end=d_model, step=2).float()\n",
    "\n",
    "        pos_encoding[:, 0::2] = torch.sin(position / (torch.tensor(10000.0)**(embedding_idx / d_model)))\n",
    "        pos_encoding[:, 1::2] = torch.cos(position / (torch.tensor(10000.0)**(embedding_idx / d_model)))\n",
    "\n",
    "        self.register_buffer('pos_encoding', pos_encoding) # To ensure it is in the GPU\n",
    "\n",
    "    def forward(self, word_embeddings):\n",
    "        return word_embeddings + self.pos_encoding[:word_embeddings.size(0), :]\n"
   ]
  },
  {
   "cell_type": "markdown",
   "metadata": {},
   "source": [
    "### Creating the attention layers"
   ]
  },
  {
   "cell_type": "code",
   "execution_count": null,
   "metadata": {},
   "outputs": [],
   "source": [
    "class Attention(nn.module):\n",
    "    def __init__(self, d_model=2):\n",
    "        super().__init__()\n",
    "        \n",
    "        self.w_q = nn.Linear(in_features=d_model, out_features=d_model, bias=False)\n",
    "        self.w_k = nn.Linear(in_features=d_model, out_features=d_model, bias=False)\n",
    "        self.w_v = nn.Linear(in_features=d_model, out_features=d_model, bias=False)\n",
    "\n",
    "        self.row_dim = 0\n",
    "        self.col_dim = 1\n",
    "\n",
    "    def forward(self, encodings_q, encodings_k, encodings_v, mask=None):\n",
    "        q = self.w_q(encodings_q)\n",
    "        k = self.w_k(encodings_k)\n",
    "        v = self.w_v(encodings_v)\n",
    "\n",
    "        q_kt = torch.matmul(q, k.transpose(dim0=self.row_dim, dim1=self.col_dim))\n",
    "        q_kt = q_kt / torch.tensor(k.size(self.col_dim)**0.5)\n",
    "\n",
    "        if mask is not None:\n",
    "            q_kt = q_kt.masked_fill(mask, value=-1e9)\n",
    "\n",
    "        attention_scores = torch.matmul(F.softmax(q_kt, dim=self.col_dim), v)\n",
    "\n",
    "        return attention_scores\n"
   ]
  },
  {
   "cell_type": "code",
   "execution_count": null,
   "metadata": {},
   "outputs": [],
   "source": [
    "class DecoderTransformer()"
   ]
  }
 ],
 "metadata": {
  "kernelspec": {
   "display_name": "hf",
   "language": "python",
   "name": "python3"
  },
  "language_info": {
   "codemirror_mode": {
    "name": "ipython",
    "version": 3
   },
   "file_extension": ".py",
   "mimetype": "text/x-python",
   "name": "python",
   "nbconvert_exporter": "python",
   "pygments_lexer": "ipython3",
   "version": "3.9.21"
  }
 },
 "nbformat": 4,
 "nbformat_minor": 2
}
