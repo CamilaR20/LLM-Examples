{
 "cells": [
  {
   "cell_type": "markdown",
   "metadata": {},
   "source": [
    "# Running Llama2 chat in different sizes: 7B, 13B, 70B"
   ]
  },
  {
   "cell_type": "code",
   "execution_count": null,
   "metadata": {},
   "outputs": [],
   "source": [
    "# From: https://huggingface.co/docs/transformers/model_doc/llama2\n",
    "import os\n",
    "from transformers import AutoModelForCausalLM, AutoTokenizer, BitsAndBytesConfig\n",
    "import torch\n",
    "import accelerate\n",
    "import bitsandbytes  # Works with CUDA\n",
    "import numpy as np\n",
    "from tqdm import tqdm\n",
    "import pandas as pd\n",
    "import time\n",
    "\n",
    "device = \"cuda:0\" if torch.cuda.is_available() else \"cpu\"\n",
    "access_token = os.environ[\"HF_API_KEY\"]"
   ]
  },
  {
   "cell_type": "code",
   "execution_count": null,
   "metadata": {},
   "outputs": [],
   "source": [
    "def print_gpu_usage(n=4):\n",
    "    for idx in range(n):\n",
    "        print('Memory allocated in the GPU-{}: {:.2f} GB'.format(idx, torch.cuda.memory_allocated(device='cuda:{}'.format(idx))//10**9))"
   ]
  },
  {
   "cell_type": "markdown",
   "metadata": {},
   "source": [
    "## Sizes of downloaded models on disk"
   ]
  },
  {
   "cell_type": "code",
   "execution_count": null,
   "metadata": {},
   "outputs": [],
   "source": [
    "!huggingface-cli scan-cache"
   ]
  },
  {
   "cell_type": "markdown",
   "metadata": {},
   "source": [
    "## 1. Loading Llama2-7B-chat"
   ]
  },
  {
   "cell_type": "code",
   "execution_count": null,
   "metadata": {},
   "outputs": [],
   "source": [
    "# Get model and tokenizer\n",
    "model_name = \"meta-llama/Llama-2-7b-chat-hf\"\n",
    "tokenizer = AutoTokenizer.from_pretrained(model_name, use_fast=True, token=access_token);"
   ]
  },
  {
   "cell_type": "markdown",
   "metadata": {},
   "source": [
    "### 1.1 LLama2-7B-chat with quantization"
   ]
  },
  {
   "cell_type": "code",
   "execution_count": null,
   "metadata": {},
   "outputs": [],
   "source": [
    "# With quantization: https://huggingface.co/docs/transformers/v4.33.2/en/main_classes/quantization\n",
    "bnb_config = BitsAndBytesConfig(load_in_4bit=True, bnb_4bit_quant_type=\"nf4\", bnb_4bit_compute_dtype=torch.bfloat16, bnb_4bit_use_double_quant=True)\n",
    "model = AutoModelForCausalLM.from_pretrained(model_name, device_map=device, quantization_config=bnb_config,  token=access_token);\n",
    "\n",
    "print('Main device for model: ', model.device)\n",
    "print_gpu_usage()"
   ]
  },
  {
   "cell_type": "code",
   "execution_count": null,
   "metadata": {},
   "outputs": [],
   "source": [
    "%%time\n",
    "prompt = \"What does the fox say?\"\n",
    "model_inputs = tokenizer(prompt, return_tensors=\"pt\").to(device)\n",
    "output = model.generate(**model_inputs, max_new_tokens=16)\n",
    "\n",
    "print(tokenizer.decode(output[0], skip_special_tokens=True), '\\n')"
   ]
  },
  {
   "cell_type": "markdown",
   "metadata": {},
   "source": [
    "### 1.2 LLama2-7B-chat without quantization"
   ]
  },
  {
   "cell_type": "code",
   "execution_count": null,
   "metadata": {},
   "outputs": [],
   "source": [
    "# Without quantization\n",
    "# del model\n",
    "model = AutoModelForCausalLM.from_pretrained(model_name, device_map=device, torch_dtype=torch.float16, token=access_token, trust_remote_code=True)\n",
    "\n",
    "print('Main device for model: ', model.device)\n",
    "print_gpu_usage()"
   ]
  },
  {
   "cell_type": "code",
   "execution_count": null,
   "metadata": {},
   "outputs": [],
   "source": [
    "%%time\n",
    "prompt = \"What does the fox say?\"\n",
    "model_inputs = tokenizer(prompt, return_tensors=\"pt\").to(device)\n",
    "output = model.generate(**model_inputs, max_new_tokens=16)\n",
    "\n",
    "print(tokenizer.decode(output[0], skip_special_tokens=True), '\\n')"
   ]
  },
  {
   "cell_type": "markdown",
   "metadata": {},
   "source": [
    "## 2. Loading Llama2-13B-chat"
   ]
  },
  {
   "cell_type": "code",
   "execution_count": null,
   "metadata": {},
   "outputs": [],
   "source": [
    "del model, tokenizer\n",
    "# Get model and tokenizer\n",
    "model_name = \"meta-llama/Llama-2-13b-chat-hf\"\n",
    "tokenizer = AutoTokenizer.from_pretrained(model_name, use_fast=True, token=access_token);"
   ]
  },
  {
   "cell_type": "markdown",
   "metadata": {},
   "source": [
    "### 2.2 LLama2-13B-chat with quantization"
   ]
  },
  {
   "cell_type": "code",
   "execution_count": null,
   "metadata": {},
   "outputs": [],
   "source": [
    "# With quantization: https://huggingface.co/docs/transformers/v4.33.2/en/main_classes/quantization\n",
    "bnb_config = BitsAndBytesConfig(load_in_4bit=True, bnb_4bit_quant_type=\"nf4\", bnb_4bit_compute_dtype=torch.bfloat16, bnb_4bit_use_double_quant=True)\n",
    "model = AutoModelForCausalLM.from_pretrained(model_name, device_map=\"auto\", quantization_config=bnb_config,  token=access_token);\n",
    "\n",
    "print('Main device for model: ', model.device)\n",
    "print_gpu_usage()"
   ]
  },
  {
   "cell_type": "code",
   "execution_count": null,
   "metadata": {},
   "outputs": [],
   "source": [
    "%%time\n",
    "prompt = \"What does the fox say?\"\n",
    "model_inputs = tokenizer(prompt, return_tensors=\"pt\").to(device)\n",
    "output = model.generate(**model_inputs, max_new_tokens=16)\n",
    "\n",
    "print(tokenizer.decode(output[0], skip_special_tokens=True), '\\n')"
   ]
  },
  {
   "cell_type": "markdown",
   "metadata": {},
   "source": [
    "### 2.2 LLama2-13B-chat without quantization"
   ]
  },
  {
   "cell_type": "code",
   "execution_count": null,
   "metadata": {},
   "outputs": [],
   "source": [
    "# Without quantization\n",
    "del model\n",
    "model = AutoModelForCausalLM.from_pretrained(model_name, device_map=device, torch_dtype=torch.float16, token=access_token, trust_remote_code=True)\n",
    "\n",
    "print('Main device for model: ', model.device)\n",
    "print_gpu_usage()"
   ]
  },
  {
   "cell_type": "code",
   "execution_count": null,
   "metadata": {},
   "outputs": [],
   "source": [
    "%%time\n",
    "prompt = \"What does the fox say?\"\n",
    "model_inputs = tokenizer(prompt, return_tensors=\"pt\").to(device)\n",
    "output = model.generate(**model_inputs, max_new_tokens=16)\n",
    "\n",
    "print(tokenizer.decode(output[0], skip_special_tokens=True), '\\n')"
   ]
  },
  {
   "cell_type": "markdown",
   "metadata": {},
   "source": [
    "## 3. Loading Llama2-70B-chat"
   ]
  },
  {
   "cell_type": "code",
   "execution_count": null,
   "metadata": {},
   "outputs": [],
   "source": [
    "del model, tokenizer\n",
    "# Get model and tokenizer\n",
    "model_name = \"meta-llama/Llama-2-70b-chat-hf\"\n",
    "tokenizer = AutoTokenizer.from_pretrained(model_name, use_fast=True, token=access_token);"
   ]
  },
  {
   "cell_type": "markdown",
   "metadata": {},
   "source": [
    "### 3.1 LLama2-70B-chat with quantization"
   ]
  },
  {
   "cell_type": "code",
   "execution_count": null,
   "metadata": {},
   "outputs": [],
   "source": [
    "# With quantization: https://huggingface.co/docs/transformers/v4.33.2/en/main_classes/quantization\n",
    "bnb_config = BitsAndBytesConfig(load_in_4bit=True, bnb_4bit_quant_type=\"nf4\", bnb_4bit_compute_dtype=torch.bfloat16, bnb_4bit_use_double_quant=True)\n",
    "model = AutoModelForCausalLM.from_pretrained(model_name, device_map=\"auto\", quantization_config=bnb_config,  token=access_token);\n",
    "\n",
    "print('Main device for model: ', model.device)\n",
    "print_gpu_usage()"
   ]
  },
  {
   "cell_type": "code",
   "execution_count": null,
   "metadata": {},
   "outputs": [],
   "source": [
    "%%time\n",
    "prompt = \"What does the fox say?\"\n",
    "model_inputs = tokenizer(prompt, return_tensors=\"pt\").to(device)\n",
    "output = model.generate(**model_inputs, max_new_tokens=16)\n",
    "\n",
    "print(tokenizer.decode(output[0], skip_special_tokens=True), '\\n')"
   ]
  },
  {
   "cell_type": "markdown",
   "metadata": {},
   "source": [
    "### 3.2 LLama2-70B-chat without quantization"
   ]
  },
  {
   "cell_type": "code",
   "execution_count": null,
   "metadata": {},
   "outputs": [],
   "source": [
    "# Without quantization\n",
    "del model\n",
    "model = AutoModelForCausalLM.from_pretrained(model_name, device_map=\"auto\", torch_dtype=torch.float16, token=access_token)\n",
    "\n",
    "print('Main device for model: ', model.device)\n",
    "print_gpu_usage()"
   ]
  },
  {
   "cell_type": "code",
   "execution_count": null,
   "metadata": {},
   "outputs": [],
   "source": [
    "%%time\n",
    "prompt = \"What does the fox say?\"\n",
    "model_inputs = tokenizer(prompt, return_tensors=\"pt\").to(device)\n",
    "output = model.generate(**model_inputs, max_new_tokens=16)\n",
    "\n",
    "print(tokenizer.decode(output[0], skip_special_tokens=True), '\\n')"
   ]
  }
 ],
 "metadata": {
  "kernelspec": {
   "display_name": "hf",
   "language": "python",
   "name": "python3"
  },
  "language_info": {
   "codemirror_mode": {
    "name": "ipython",
    "version": 3
   },
   "file_extension": ".py",
   "mimetype": "text/x-python",
   "name": "python",
   "nbconvert_exporter": "python",
   "pygments_lexer": "ipython3",
   "version": "3.9.18"
  }
 },
 "nbformat": 4,
 "nbformat_minor": 2
}
