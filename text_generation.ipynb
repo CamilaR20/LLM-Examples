{
 "cells": [
  {
   "cell_type": "markdown",
   "metadata": {},
   "source": [
    "# Text generation with Llama2\n",
    "Examples of text generation with Llama2 and Hugging Face Transformers library:\n",
    "1. Using the generate() method with different output and input sizes, and modifying the temperature.\n",
    "2. Using the model callback.\n",
    "3. Measuring perplexity of a sequence longer than the context length of the model."
   ]
  },
  {
   "cell_type": "code",
   "execution_count": 1,
   "metadata": {},
   "outputs": [
    {
     "name": "stderr",
     "output_type": "stream",
     "text": [
      "/home/mce/miniconda3/envs/hf/lib/python3.9/site-packages/tqdm/auto.py:21: TqdmWarning: IProgress not found. Please update jupyter and ipywidgets. See https://ipywidgets.readthedocs.io/en/stable/user_install.html\n",
      "  from .autonotebook import tqdm as notebook_tqdm\n"
     ]
    }
   ],
   "source": [
    "import os\n",
    "from transformers import AutoModelForCausalLM, AutoTokenizer, BitsAndBytesConfig\n",
    "import torch\n",
    "import accelerate\n",
    "import bitsandbytes  # Works with CUDA\n",
    "import numpy as np\n",
    "from .autonotebook import tqdm as notebook_tqdm\n",
    "import pandas as pd\n",
    "import time\n",
    "\n",
    "# device = torch.device(\"mps\") if torch.backends.mps.is_built() else torch.device(\"cpu\")  # To run on mac\n",
    "device = \"cuda:0\" if torch.cuda.is_available() else \"cpu\""
   ]
  },
  {
   "cell_type": "code",
   "execution_count": 2,
   "metadata": {},
   "outputs": [
    {
     "data": {
      "application/vnd.jupyter.widget-view+json": {
       "model_id": "ff2ea4c565844b93a1e2593917b99715",
       "version_major": 2,
       "version_minor": 0
      },
      "text/plain": [
       "Loading checkpoint shards:   0%|          | 0/2 [00:00<?, ?it/s]"
      ]
     },
     "metadata": {},
     "output_type": "display_data"
    },
    {
     "name": "stderr",
     "output_type": "stream",
     "text": [
      "/home/mce/anaconda3/envs/hf/lib/python3.9/site-packages/transformers/utils/hub.py:374: FutureWarning: The `use_auth_token` argument is deprecated and will be removed in v5 of Transformers. Please use `token` instead.\n",
      "  warnings.warn(\n"
     ]
    }
   ],
   "source": [
    "# Get model and tokenizer\n",
    "model_name = \"meta-llama/Llama-2-7b-chat-hf\"\n",
    "access_token = os.environ[\"HF_API_KEY\"]\n",
    "\n",
    "# Quantization: https://huggingface.co/docs/transformers/v4.33.2/en/main_classes/quantization\n",
    "bnb_config = BitsAndBytesConfig(load_in_4bit=True, bnb_4bit_quant_type=\"nf4\", bnb_4bit_compute_dtype=torch.bfloat16, bnb_4bit_use_double_quant=True)\n",
    "\n",
    "model = AutoModelForCausalLM.from_pretrained(model_name, device_map=\"auto\", quantization_config=bnb_config,  token=access_token);  # In colab cache_dir can be set to a folder in GDrive\n",
    "tokenizer = AutoTokenizer.from_pretrained(model_name, use_fast=True, token=access_token);"
   ]
  },
  {
   "cell_type": "markdown",
   "metadata": {},
   "source": [
    "## Configuration / Architecture"
   ]
  },
  {
   "cell_type": "code",
   "execution_count": 3,
   "metadata": {},
   "outputs": [
    {
     "name": "stdout",
     "output_type": "stream",
     "text": [
      "Number of parameters (all, excluding embeddings, trainable): (6738415616, 6607343616, 262410240)\n",
      "Number of attention heads:  32\n",
      "Number of hidden layers:  32\n",
      "Number of key_value heads (Grouped Query Attention):  32\n",
      "Hidden size:  4096\n",
      "Hidden activation:  silu\n",
      "Intermediate size:  11008\n",
      "Maximum sequence length (context):  4096\n",
      "Vocabulary size:  32000\n"
     ]
    }
   ],
   "source": [
    "print(\"Number of parameters (all, excluding embeddings, trainable): ({}, {}, {})\".format(model.num_parameters(), model.num_parameters(exclude_embeddings=True), model.num_parameters(only_trainable=True)))\n",
    "print(\"Number of attention heads: \", model.config.num_attention_heads)\n",
    "print(\"Number of hidden layers: \", model.config.num_hidden_layers)\n",
    "print(\"Number of key_value heads (Grouped Query Attention): \", model.config.num_key_value_heads)\n",
    "print(\"Hidden size: \", model.config.hidden_size)\n",
    "print(\"Hidden activation: \", model.config.hidden_act)\n",
    "print(\"Intermediate size: \", model.config.intermediate_size)\n",
    "print(\"Maximum sequence length (context): \", model.config.max_position_embeddings)\n",
    "print(\"Vocabulary size: \", model.config.vocab_size)\n",
    "# print(\"\\nModel:\\n\", model)"
   ]
  },
  {
   "cell_type": "markdown",
   "metadata": {},
   "source": [
    "## 1. Text generation with the generate() method\n",
    "[Documentation](https://huggingface.co/docs/transformers/v4.33.2/en/main_classes/text_generation)"
   ]
  },
  {
   "cell_type": "code",
   "execution_count": 4,
   "metadata": {},
   "outputs": [
    {
     "name": "stdout",
     "output_type": "stream",
     "text": [
      "Tokenized input size:  torch.Size([1, 8])\n"
     ]
    }
   ],
   "source": [
    "prompt = \"What does the fox say?\"\n",
    "model_inputs = tokenizer(prompt, return_tensors=\"pt\").to(device) # Use return_length to return input lenght in tokens\n",
    "print(\"Tokenized input size: \", model_inputs.input_ids.shape)"
   ]
  },
  {
   "cell_type": "markdown",
   "metadata": {},
   "source": [
    "### 1.1 Generating different lenghts of outputs\n",
    "Computation time depends on the size of the output that can be specified or defaults to maximum of 20 tokens (unless EOS is generated before).  \n",
    "\n",
    "The output has the following objects:\n",
    "* sequences: token ids from the generated text, its lenght is the sum of the new tokens plus the prompt tokens.\n",
    "* scores: probabilities associated to each predicted token, it is a tensor of size (number of new tokens, vocabulary size)."
   ]
  },
  {
   "cell_type": "code",
   "execution_count": 5,
   "metadata": {},
   "outputs": [
    {
     "name": "stdout",
     "output_type": "stream",
     "text": [
      "What does the fox say? (Sung to the tune of \"The Wheels on the Bus\")\n",
      "------------------------------------------------------\n",
      "Output shape (tokens):  torch.Size([1, 24])\n",
      "Number of scores and each score tensor shape: (16, torch.Size([1, 32000]))\n"
     ]
    }
   ],
   "source": [
    "output = model.generate(**model_inputs, max_new_tokens=16, output_scores=True, return_dict_in_generate=True);  #True to return prediction scores, format return_dict_in_generate\n",
    "text = tokenizer.decode(output.sequences[0], skip_special_tokens=True)\n",
    "\n",
    "print(text)\n",
    "print(\"------------------------------------------------------\")\n",
    "print(\"Output shape (tokens): \", output.sequences.shape)\n",
    "print(\"Number of scores and each score tensor shape: ({}, {})\".format(len(output.scores), output.scores[0].shape))"
   ]
  },
  {
   "cell_type": "code",
   "execution_count": 6,
   "metadata": {},
   "outputs": [
    {
     "name": "stderr",
     "output_type": "stream",
     "text": [
      "This is a friendly reminder - the current text generation call will exceed the model's predefined maximum length (4096). Depending on the model, you may observe exceptions, performance degradation, or nothing at all.\n"
     ]
    }
   ],
   "source": [
    "output_sizes = [16, 32, 64, 128, 256, 512, 1024, 2048, 4096]\n",
    "prediction_time = []\n",
    "decoding_time = []\n",
    "\n",
    "for output_size in output_sizes:\n",
    "  to = time.time()\n",
    "  output = model.generate(**model_inputs, max_new_tokens=output_size, output_scores=True, return_dict_in_generate=True);  #True to return prediction scores, format return_dict_in_generate\n",
    "  prediction_time.append(time.time() - to)\n",
    "\n",
    "  text = tokenizer.decode(output.sequences[0], skip_special_tokens=True)\n",
    "  decoding_time.append(time.time() - to)"
   ]
  },
  {
   "cell_type": "code",
   "execution_count": 7,
   "metadata": {},
   "outputs": [
    {
     "data": {
      "text/html": [
       "<div>\n",
       "<style scoped>\n",
       "    .dataframe tbody tr th:only-of-type {\n",
       "        vertical-align: middle;\n",
       "    }\n",
       "\n",
       "    .dataframe tbody tr th {\n",
       "        vertical-align: top;\n",
       "    }\n",
       "\n",
       "    .dataframe thead th {\n",
       "        text-align: right;\n",
       "    }\n",
       "</style>\n",
       "<table border=\"1\" class=\"dataframe\">\n",
       "  <thead>\n",
       "    <tr style=\"text-align: right;\">\n",
       "      <th></th>\n",
       "      <th>Output sizes (tokens)</th>\n",
       "      <th>Prediction time (s)</th>\n",
       "      <th>Prediction + decoding time (s)</th>\n",
       "    </tr>\n",
       "  </thead>\n",
       "  <tbody>\n",
       "    <tr>\n",
       "      <th>0</th>\n",
       "      <td>16</td>\n",
       "      <td>1.293991</td>\n",
       "      <td>1.294172</td>\n",
       "    </tr>\n",
       "    <tr>\n",
       "      <th>1</th>\n",
       "      <td>32</td>\n",
       "      <td>2.320033</td>\n",
       "      <td>2.320272</td>\n",
       "    </tr>\n",
       "    <tr>\n",
       "      <th>2</th>\n",
       "      <td>64</td>\n",
       "      <td>4.393761</td>\n",
       "      <td>4.394002</td>\n",
       "    </tr>\n",
       "    <tr>\n",
       "      <th>3</th>\n",
       "      <td>128</td>\n",
       "      <td>8.621534</td>\n",
       "      <td>8.621843</td>\n",
       "    </tr>\n",
       "    <tr>\n",
       "      <th>4</th>\n",
       "      <td>256</td>\n",
       "      <td>2.589081</td>\n",
       "      <td>2.589355</td>\n",
       "    </tr>\n",
       "    <tr>\n",
       "      <th>5</th>\n",
       "      <td>512</td>\n",
       "      <td>4.850044</td>\n",
       "      <td>4.850321</td>\n",
       "    </tr>\n",
       "    <tr>\n",
       "      <th>6</th>\n",
       "      <td>1024</td>\n",
       "      <td>16.727992</td>\n",
       "      <td>16.728397</td>\n",
       "    </tr>\n",
       "    <tr>\n",
       "      <th>7</th>\n",
       "      <td>2048</td>\n",
       "      <td>140.912367</td>\n",
       "      <td>140.914176</td>\n",
       "    </tr>\n",
       "    <tr>\n",
       "      <th>8</th>\n",
       "      <td>4096</td>\n",
       "      <td>282.365057</td>\n",
       "      <td>282.368596</td>\n",
       "    </tr>\n",
       "  </tbody>\n",
       "</table>\n",
       "</div>"
      ],
      "text/plain": [
       "   Output sizes (tokens)  Prediction time (s)  Prediction + decoding time (s)\n",
       "0                     16             1.293991                        1.294172\n",
       "1                     32             2.320033                        2.320272\n",
       "2                     64             4.393761                        4.394002\n",
       "3                    128             8.621534                        8.621843\n",
       "4                    256             2.589081                        2.589355\n",
       "5                    512             4.850044                        4.850321\n",
       "6                   1024            16.727992                       16.728397\n",
       "7                   2048           140.912367                      140.914176\n",
       "8                   4096           282.365057                      282.368596"
      ]
     },
     "metadata": {},
     "output_type": "display_data"
    }
   ],
   "source": [
    "# Results\n",
    "df = pd.DataFrame({\"Output sizes (tokens)\": output_sizes, \"Prediction time (s)\": prediction_time, \"Prediction + decoding time (s)\": decoding_time})\n",
    "display(df)"
   ]
  },
  {
   "cell_type": "code",
   "execution_count": 8,
   "metadata": {},
   "outputs": [
    {
     "data": {
      "image/png": "[encoded data removed]",
      "text/plain": [
       "<Figure size 640x480 with 1 Axes>"
      ]
     },
     "metadata": {},
     "output_type": "display_data"
    }
   ],
   "source": [
    "# Impact output size / requested tokens\n",
    "plot = df.plot(title=\"Runtime for different output sizes\", x=\"Output sizes (tokens)\", y=\"Prediction time (s)\", ylabel=\"Prediction time (s)\", style=\"-o\")"
   ]
  },
  {
   "cell_type": "markdown",
   "metadata": {},
   "source": [
    "### 1.2 Generating an output of 16 tokens with different lenghts of inputs"
   ]
  },
  {
   "cell_type": "code",
   "execution_count": 9,
   "metadata": {},
   "outputs": [
    {
     "name": "stdout",
     "output_type": "stream",
     "text": [
      "Tokenized input size:  torch.Size([1, 524])\n"
     ]
    }
   ],
   "source": [
    "prompt = \"Michelangelo di Lodovico Buonarroti Simoni (6 March 1475 – 18 February 1564), known as Michelangelo, was an Italian sculptor, painter, architect, and poet of the High Renaissance. Born in the Republic of Florence, his work was inspired by models from classical antiquity and had a lasting influence on Western art. Michelangelo's creative abilities and mastery in a range of artistic arenas define him as an archetypal Renaissance man, along with his rival and elder contemporary, Leonardo da Vinci. Given the sheer volume of surviving correspondence, sketches, and reminiscences, Michelangelo is one of the best-documented artists of the 16th century. He was lauded by contemporary biographers as the most accomplished artist of his era. Michelangelo achieved fame early; two of his best-known works, the Pietà and David, were sculpted before the age of thirty. Although he did not consider himself a painter, Michelangelo created two of the most influential frescoes in the history of Western art: the scenes from Genesis on the ceiling of the Sistine Chapel in Rome, and The Last Judgment on its altar wall. His design of the Laurentian Library pioneered Mannerist architecture. At the age of 71, he succeeded Antonio da Sangallo the Younger as the architect of St. Peter's Basilica. Michelangelo transformed the plan so that the western end was finished to his design, as was the dome, with some modification, after his death. Michelangelo was the first Western artist whose biography was published while he was alive. In fact, three biographies were published during his lifetime. One of them, by Giorgio Vasari, proposed that Michelangelo's work transcended that of any artist living or dead, and was supreme in not one art alone but in all three. In his lifetime, Michelangelo was often called Il Divino (the divine one). His contemporaries often admired his terribilità—his ability to instill a sense of awe in viewers of his art. Attempts by subsequent artists to imitate the expressive physicality of Michelangelo's style contributed to the rise of Mannerism, a short-lived movement in Western art between the High Renaissance and the Baroque.\"\n",
    "model_inputs = tokenizer(prompt, return_tensors=\"pt\").to(device)  #Use return_length to return input lenght in tokens\n",
    "print(\"Tokenized input size: \", model_inputs.input_ids.shape)"
   ]
  },
  {
   "cell_type": "code",
   "execution_count": 10,
   "metadata": {},
   "outputs": [],
   "source": [
    "input_sizes = [16, 32, 64, 128, 256, 512, 1024, 2048, 4096]\n",
    "prediction_time = []\n",
    "decoding_time = []\n",
    "\n",
    "for input_size in input_sizes:\n",
    "  inputs = model_inputs.input_ids[:input_size]\n",
    "  to = time.time()\n",
    "  output = model.generate(inputs, max_new_tokens=16, output_scores=True, return_dict_in_generate=True)  #True to return prediction scores, format return_dict_in_generate\n",
    "  prediction_time.append(time.time() - to)\n",
    "\n",
    "  text = tokenizer.decode(output.sequences[0], skip_special_tokens=True)\n",
    "  decoding_time.append(time.time() - to)\n"
   ]
  },
  {
   "cell_type": "code",
   "execution_count": 11,
   "metadata": {},
   "outputs": [
    {
     "data": {
      "text/html": [
       "<div>\n",
       "<style scoped>\n",
       "    .dataframe tbody tr th:only-of-type {\n",
       "        vertical-align: middle;\n",
       "    }\n",
       "\n",
       "    .dataframe tbody tr th {\n",
       "        vertical-align: top;\n",
       "    }\n",
       "\n",
       "    .dataframe thead th {\n",
       "        text-align: right;\n",
       "    }\n",
       "</style>\n",
       "<table border=\"1\" class=\"dataframe\">\n",
       "  <thead>\n",
       "    <tr style=\"text-align: right;\">\n",
       "      <th></th>\n",
       "      <th>Input size (tokens)</th>\n",
       "      <th>Prediction time (s)</th>\n",
       "      <th>Prediction + decoding time (s)</th>\n",
       "    </tr>\n",
       "  </thead>\n",
       "  <tbody>\n",
       "    <tr>\n",
       "      <th>0</th>\n",
       "      <td>16</td>\n",
       "      <td>1.972342</td>\n",
       "      <td>1.975091</td>\n",
       "    </tr>\n",
       "    <tr>\n",
       "      <th>1</th>\n",
       "      <td>32</td>\n",
       "      <td>1.931416</td>\n",
       "      <td>1.932227</td>\n",
       "    </tr>\n",
       "    <tr>\n",
       "      <th>2</th>\n",
       "      <td>64</td>\n",
       "      <td>1.933663</td>\n",
       "      <td>1.934433</td>\n",
       "    </tr>\n",
       "    <tr>\n",
       "      <th>3</th>\n",
       "      <td>128</td>\n",
       "      <td>1.929686</td>\n",
       "      <td>1.930371</td>\n",
       "    </tr>\n",
       "    <tr>\n",
       "      <th>4</th>\n",
       "      <td>256</td>\n",
       "      <td>1.931432</td>\n",
       "      <td>1.932089</td>\n",
       "    </tr>\n",
       "    <tr>\n",
       "      <th>5</th>\n",
       "      <td>512</td>\n",
       "      <td>1.935114</td>\n",
       "      <td>1.935821</td>\n",
       "    </tr>\n",
       "    <tr>\n",
       "      <th>6</th>\n",
       "      <td>1024</td>\n",
       "      <td>1.931911</td>\n",
       "      <td>1.932614</td>\n",
       "    </tr>\n",
       "    <tr>\n",
       "      <th>7</th>\n",
       "      <td>2048</td>\n",
       "      <td>0.935798</td>\n",
       "      <td>0.936360</td>\n",
       "    </tr>\n",
       "    <tr>\n",
       "      <th>8</th>\n",
       "      <td>4096</td>\n",
       "      <td>1.933145</td>\n",
       "      <td>1.933806</td>\n",
       "    </tr>\n",
       "  </tbody>\n",
       "</table>\n",
       "</div>"
      ],
      "text/plain": [
       "   Input size (tokens)  Prediction time (s)  Prediction + decoding time (s)\n",
       "0                   16             1.972342                        1.975091\n",
       "1                   32             1.931416                        1.932227\n",
       "2                   64             1.933663                        1.934433\n",
       "3                  128             1.929686                        1.930371\n",
       "4                  256             1.931432                        1.932089\n",
       "5                  512             1.935114                        1.935821\n",
       "6                 1024             1.931911                        1.932614\n",
       "7                 2048             0.935798                        0.936360\n",
       "8                 4096             1.933145                        1.933806"
      ]
     },
     "metadata": {},
     "output_type": "display_data"
    }
   ],
   "source": [
    "# Results\n",
    "df = pd.DataFrame({\"Input size (tokens)\": input_sizes, \"Prediction time (s)\": prediction_time, \"Prediction + decoding time (s)\": decoding_time})\n",
    "display(df)"
   ]
  },
  {
   "cell_type": "code",
   "execution_count": 12,
   "metadata": {},
   "outputs": [
    {
     "data": {
      "image/png": "[encoded data removed]",
      "text/plain": [
       "<Figure size 640x480 with 1 Axes>"
      ]
     },
     "metadata": {},
     "output_type": "display_data"
    }
   ],
   "source": [
    "# Impact input size / prompt length\n",
    "plot = df.plot(title=\"Runtime for different input sizes\", x=\"Input size (tokens)\", y=\"Prediction time (s)\", ylabel=\"Prediction time (s)\", style=\"-o\")"
   ]
  },
  {
   "cell_type": "markdown",
   "metadata": {},
   "source": [
    "### 1.3. Text generation modifying the temperature\n",
    "[Documentation](https://huggingface.co/docs/transformers/internal/generation_utils): A value smaller than 1 decreases randomness (and vice versa), with 0 being equivalent to shifting all probability mass to the most likely token."
   ]
  },
  {
   "cell_type": "code",
   "execution_count": 13,
   "metadata": {},
   "outputs": [
    {
     "name": "stdout",
     "output_type": "stream",
     "text": [
      "Tokenized input size:  torch.Size([1, 8])\n",
      "---------------------t=0.1------------------------------\n",
      "What does the fox say? (Fox say \"Ring-\n",
      "What does the fox say? (Fox say \"Ring-\n",
      "What does the fox say? (Fox say \"Ring-\n",
      "What does the fox say? (You know the song)\n",
      " everybody\n",
      "What does the fox say? (Fox say \"Ring-\n",
      "What does the fox say? (You know the song)\n",
      " everybody\n",
      "What does the fox say? (You know the song)\n",
      " everybody\n",
      "What does the fox say? (You know the song)\n",
      " everybody\n",
      "What does the fox say? (You know the song)\n",
      " everybody\n",
      "What does the fox say? (You know the song)\n",
      " nobody\n",
      "---------------------t=0.5------------------------------\n",
      "What does the fox say? (You know the song)\n",
      " Begriffe\n",
      "What does the fox say? (A parody of the song \"\n",
      "What does the fox say? (Well, actually, I think I\n",
      "What does the fox say?\n",
      "ϊ ♪ �\n",
      "What does the fox say? (Sung to the tune of\n",
      "What does the fox say? (Answer: It says \"Ring\n",
      "What does the fox say? (What does the fox say?)\n",
      "What does the fox say? (A parody of the song \"\n",
      "What does the fox say? (It's a kooky\n",
      "What does the fox say? (Rock version)\n",
      " Einzelnes\n",
      "---------------------t=1------------------------------\n",
      "What does the fox say?\n",
      " everybody, listen up! It'\n",
      "What does the fox say? Well, according to the catchy t\n",
      "What does the fox say? (A parody of the song \"\n",
      "What does the fox say?\n",
      " Unterscheidungliche the different animal sounds made\n",
      "What does the fox say? (YouTube)\n",
      " everybody knows the\n",
      "What does the fox say? (A parody of the song \"\n",
      "What does the fox say?\n",
      " nobody knows.\n",
      "\n",
      "What does\n",
      "What does the fox say? *ring ring* *buz bu\n",
      "What does the fox say? (The fox says \"Ring\n",
      "What does the fox say? (Answer: \"Ring-ding\n"
     ]
    }
   ],
   "source": [
    "prompt = \"What does the fox say?\"\n",
    "model_inputs = tokenizer(prompt, return_tensors=\"pt\").to(device)  #Use return_length to return input lenght in tokens\n",
    "print(\"Tokenized input size: \", model_inputs.input_ids.shape)\n",
    "\n",
    "print(\"---------------------t=0.1------------------------------\")\n",
    "for i in range(10):\n",
    "  output = model.generate(**model_inputs, max_new_tokens=8, temperature=0.1, output_scores=True, return_dict_in_generate=True)  #True to return prediction scores, format return_dict_in_generate\n",
    "  print(tokenizer.decode(output.sequences[0], skip_special_tokens=True))\n",
    "\n",
    "print(\"---------------------t=0.5------------------------------\")\n",
    "for i in range(10):\n",
    "  output = model.generate(**model_inputs, max_new_tokens=8, temperature=0.5, output_scores=True, return_dict_in_generate=True)  #True to return prediction scores, format return_dict_in_generate\n",
    "  print(tokenizer.decode(output.sequences[0], skip_special_tokens=True))\n",
    "\n",
    "print(\"---------------------t=1------------------------------\")\n",
    "for i in range(10):\n",
    "  output = model.generate(**model_inputs, max_new_tokens=8, temperature=1, output_scores=True, return_dict_in_generate=True)  #True to return prediction scores, format return_dict_in_generate\n",
    "  print(tokenizer.decode(output.sequences[0], skip_special_tokens=True))"
   ]
  },
  {
   "cell_type": "markdown",
   "metadata": {},
   "source": [
    "## 2. Text generation using model call\n",
    "[Documentation](https://huggingface.co/docs/transformers/v4.33.2/en/main_classes/output#transformers.modeling_outputs.CausalLMOutput): The model output returns the logits, which are the prediction scores of the language modeling head (scores for each vocabulary token before SoftMax)."
   ]
  },
  {
   "cell_type": "code",
   "execution_count": 14,
   "metadata": {},
   "outputs": [
    {
     "name": "stdout",
     "output_type": "stream",
     "text": [
      "Tokenized input size:  torch.Size([1, 8])\n"
     ]
    }
   ],
   "source": [
    "prompt = \"What does the fox say?\"\n",
    "model_inputs = tokenizer(prompt, return_tensors=\"pt\").to(device)  #Use return_length to return input lenght in tokens\n",
    "print(\"Tokenized input size: \", model_inputs.input_ids.shape)"
   ]
  },
  {
   "cell_type": "code",
   "execution_count": 15,
   "metadata": {},
   "outputs": [
    {
     "name": "stdout",
     "output_type": "stream",
     "text": [
      "nobody is the Biblex say? (\n",
      "------------------------------------------------------\n",
      "Output shape (tokens):  torch.Size([8])\n",
      "Output shape (logits):  torch.Size([1, 8, 32000])\n",
      "------------------------------------------------------\n",
      "Adding temperature: \n",
      "nobody is the Biblex say? (\n",
      "------------------------------------------------------\n",
      "CPU times: user 267 ms, sys: 48 ms, total: 315 ms\n",
      "Wall time: 318 ms\n"
     ]
    }
   ],
   "source": [
    "%%time\n",
    "predictions = model(model_inputs.input_ids)  #Returns: loss, logits, hidden_states, attentions\n",
    "output_logits = predictions.logits  # Raw, unnormalized scores\n",
    "\n",
    "probs = torch.nn.functional.softmax(output_logits, dim=-1)\n",
    "# preds = np.argmax(probs.detach().cpu().numpy(), axis=-1)  # Get label from logits\n",
    "preds = torch.argmax(probs[0], dim=-1)\n",
    "\n",
    "print(tokenizer.decode(preds, skip_special_tokens=True))\n",
    "print(\"------------------------------------------------------\")\n",
    "print(\"Output shape (tokens): \", preds.shape)\n",
    "print(\"Output shape (logits): \", output_logits.shape)\n",
    "print(\"------------------------------------------------------\")\n",
    "\n",
    "# Temperature: https://stackoverflow.com/questions/59346448/if-temperature-is-not-defined-in-softmax-does-it-mean-temperature-is-1\n",
    "temperature = 0.1\n",
    "probs = torch.nn.functional.softmax(output_logits / temperature, dim=-1)\n",
    "preds = torch.argmax(probs[0], dim=-1)\n",
    "print(\"Adding temperature: \")\n",
    "print(tokenizer.decode(preds, skip_special_tokens=True))\n",
    "print(\"------------------------------------------------------\")"
   ]
  },
  {
   "cell_type": "markdown",
   "metadata": {},
   "source": [
    "## 3. Measure perplexity of a sequence longer than the context window\n",
    "[Documentation](https://huggingface.co/docs/transformers/perplexity)"
   ]
  },
  {
   "cell_type": "code",
   "execution_count": 16,
   "metadata": {},
   "outputs": [
    {
     "name": "stdout",
     "output_type": "stream",
     "text": [
      "Tokenized input size:  torch.Size([1, 7002])\n"
     ]
    }
   ],
   "source": [
    "prompt = \"What does the fox say? \" * 1000\n",
    "model_inputs = tokenizer(prompt, return_tensors=\"pt\").to(device)  #Use return_length to return input lenght in tokens\n",
    "print(\"Tokenized input size: \", model_inputs.input_ids.shape)"
   ]
  },
  {
   "cell_type": "code",
   "execution_count": 17,
   "metadata": {},
   "outputs": [
    {
     "name": "stdout",
     "output_type": "stream",
     "text": [
      "Perplexity:  1.0058621168136597\n"
     ]
    }
   ],
   "source": [
    "max_length = model.config.max_position_embeddings\n",
    "stride = 512\n",
    "seq_len = model_inputs.input_ids.size(1)\n",
    "\n",
    "nlls = []\n",
    "prev_end_loc = 0\n",
    "for begin_loc in range(0, seq_len, stride):\n",
    "    end_loc = min(begin_loc + max_length, seq_len)\n",
    "    trg_len = end_loc - prev_end_loc  # may be different from stride on last loop\n",
    "    input_ids = model_inputs.input_ids[:, begin_loc:end_loc].to(device)\n",
    "    target_ids = input_ids.clone()\n",
    "    target_ids[:, :-trg_len] = -100\n",
    "\n",
    "    with torch.no_grad():\n",
    "        outputs = model(input_ids, labels=target_ids)\n",
    "\n",
    "        # loss is calculated using CrossEntropyLoss which averages over valid labels\n",
    "        # N.B. the model only calculates loss over trg_len - 1 labels, because it internally shifts the labels\n",
    "        # to the left by 1.\n",
    "        neg_log_likelihood = outputs.loss\n",
    "\n",
    "    nlls.append(neg_log_likelihood)\n",
    "\n",
    "    prev_end_loc = end_loc\n",
    "\n",
    "    if begin_loc == 512:\n",
    "      break\n",
    "\n",
    "    if end_loc == seq_len:\n",
    "        break\n",
    "\n",
    "ppl = torch.exp(torch.stack(nlls).mean())\n",
    "print(\"Perplexity: \", ppl.item())"
   ]
  }
 ],
 "metadata": {
  "kernelspec": {
   "display_name": "hf",
   "language": "python",
   "name": "python3"
  },
  "language_info": {
   "codemirror_mode": {
    "name": "ipython",
    "version": 3
   },
   "file_extension": ".py",
   "mimetype": "text/x-python",
   "name": "python",
   "nbconvert_exporter": "python",
   "pygments_lexer": "ipython3",
   "version": "3.9.18"
  }
 },
 "nbformat": 4,
 "nbformat_minor": 2
}
