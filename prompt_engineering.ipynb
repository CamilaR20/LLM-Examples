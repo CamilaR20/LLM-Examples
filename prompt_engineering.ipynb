{
 "cells": [
  {
   "cell_type": "markdown",
   "metadata": {},
   "source": [
    "# Prompt Engineering Techniques\n",
    "Examples of different prompt engineering techniques for the task of sentiment classification. To run first set environment variables with API keys for each service that will be used, with the following naming schemes:\n",
    "- OpenAI: \"OPENAI_API_KEY\"\n",
    "- Anthropic: \"ANTHROPIC_API_KEY\"\n",
    "- Hugging Face\"s Transformers library: \"HF_API_KEY\"\n",
    "\n",
    "## Load model\n",
    "- OpenAI: gpt-4, gpt-4 turbo or gpt-3.5-turbo (GPT-4 access is restricted, dependent on availability or through subscription).\n",
    "- Anthropic: claude-2, \"claude-instant-1 (Request access to the console to get API KEY).\n",
    "- Hugging Face Hub: any model available from the hub."
   ]
  },
  {
   "cell_type": "code",
   "execution_count": null,
   "metadata": {},
   "outputs": [],
   "source": [
    "from prompt_chatbot import get_model\n",
    "from datasets import load_dataset\n",
    "import numpy as np\n",
    "\n",
    "model_name = \"Intel/neural-chat-7b-v3-3\"\n",
    "model = get_model(model_name=model_name)\n",
    "\n",
    "# Load and sample from the dataset\n",
    "ds = load_dataset(\"rotten_tomatoes\", split=\"test\")\n",
    "label = {0: \"Negative\", 1: \"Positive\"}\n",
    "\n",
    "idxs = np.random.choice(len(ds), 10)\n",
    "ds = ds.select(idxs)"
   ]
  },
  {
   "cell_type": "code",
   "execution_count": null,
   "metadata": {},
   "outputs": [],
   "source": [
    "# Zero-shot prompting: \n",
    "prompt = \"Classify the following movie review as either Positive or Negative : \" + ds[0][\"text\"]\n",
    "response = model(prompt)\n",
    "\n",
    "print(\"Prompt:\", prompt)\n",
    "print(\"Response:\", response)\n",
    "print(\"Ground truth:\", label[ds[0][\"label\"]])"
   ]
  },
  {
   "cell_type": "markdown",
   "metadata": {},
   "source": [
    "## 1. Few-shot prompting\n",
    "In-context learning. "
   ]
  },
  {
   "cell_type": "code",
   "execution_count": 43,
   "metadata": {},
   "outputs": [
    {
     "name": "stdout",
     "output_type": "stream",
     "text": [
      "the early and middle passages are surprising in how much they engage and even touch us . this is not a classical dramatic animated feature , nor a hip , contemporary , in-jokey one . it's sort of in-between , and it works .\n",
      "Sentiment: Positive\n",
      "a slow-moving police-procedural thriller that takes its title all too literally .\n",
      "Sentiment: Negative\n",
      "Classify the following movie review as either Positive or Negative : i'd rather watch a rerun of the powerpuff girls\n"
     ]
    }
   ],
   "source": [
    "prompt = \"\\n\".join([ds[0][\"text\"], \"Sentiment: \" + label[ds[0][\"label\"]], ds[1][\"text\"], \"Sentiment: \" + label[ds[1][\"label\"]], \"Classify the following movie review as either Positive or Negative : \" + ds[2][\"text\"]])\n",
    "\n",
    "# print(\"Prompt:\", prompt)\n",
    "print(\"Response:\", response)\n",
    "print(\"Ground truth:\", label[ds[2][\"label\"]])"
   ]
  },
  {
   "cell_type": "markdown",
   "metadata": {},
   "source": [
    "## 2. Chain-of-thought prompting\n",
    "Without few-shot prompting."
   ]
  },
  {
   "cell_type": "code",
   "execution_count": null,
   "metadata": {},
   "outputs": [],
   "source": [
    "prompt = \"Classify the following movie review as either Positive or Negative. Let's think step by step. \" + ds[0][\"text\"]\n",
    "response = model(prompt)\n",
    "\n",
    "print(\"Prompt:\", prompt)\n",
    "print(\"Response:\", response)\n",
    "print(\"Ground truth:\", label[ds[0][\"label\"]])"
   ]
  },
  {
   "cell_type": "code",
   "execution_count": 44,
   "metadata": {},
   "outputs": [
    {
     "name": "stdout",
     "output_type": "stream",
     "text": [
      "Classify the following movie review as either Positive or Negative. Let's think step by step. the early and middle passages are surprising in how much they engage and even touch us . this is not a classical dramatic animated feature , nor a hip , contemporary , in-jokey one . it's sort of in-between , and it works .\n"
     ]
    }
   ],
   "source": [
    "prompt = \"Classify the following movie review as either Positive or Negative. Let's think step by step. \" + ds[0][\"text\"]\n",
    "print(prompt)"
   ]
  },
  {
   "cell_type": "code",
   "execution_count": null,
   "metadata": {},
   "outputs": [],
   "source": []
  }
 ],
 "metadata": {
  "kernelspec": {
   "display_name": "hf",
   "language": "python",
   "name": "python3"
  },
  "language_info": {
   "codemirror_mode": {
    "name": "ipython",
    "version": 3
   },
   "file_extension": ".py",
   "mimetype": "text/x-python",
   "name": "python",
   "nbconvert_exporter": "python",
   "pygments_lexer": "ipython3",
   "version": "3.9.21"
  }
 },
 "nbformat": 4,
 "nbformat_minor": 2
}
